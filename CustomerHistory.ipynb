{
  "nbformat": 4,
  "nbformat_minor": 0,
  "metadata": {
    "colab": {
      "name": "CustomerHistory.ipynb",
      "provenance": []
    },
    "kernelspec": {
      "name": "python3",
      "display_name": "Python 3"
    },
    "language_info": {
      "name": "python"
    }
  },
  "cells": [
    {
      "cell_type": "code",
      "execution_count": 1,
      "metadata": {
        "colab": {
          "base_uri": "https://localhost:8080/"
        },
        "id": "V8MsMOQasq4H",
        "outputId": "e2a2cc22-7e01-4037-8322-85cf5b9c455d"
      },
      "outputs": [
        {
          "output_type": "stream",
          "name": "stdout",
          "text": [
            "2015-01-01, joe@signifyd.com, NO_HISTORY\n",
            "2015-02-10, joe@signifyd.com, UNCONFIRMED_HISTORY:1\n",
            "2015-02-14, fraudster@fraud.com, FRAUD_HISTORY:2\n",
            "2015-03-15, joe@signifyd.com, UNCONFIRMED_HISTORY:2\n",
            "2015-05-01, joe@signifyd.com, GOOD_HISTORY:1\n",
            "2015-10-01, joe@signifyd.com, GOOD_HISTORY:4\n"
          ]
        }
      ],
      "source": [
        "import datetime\n",
        "#input file path\n",
        "file1 = open('/content/a.txt', 'r')\n",
        "lines = file1.readlines()\n",
        " \n",
        "cust = {}\n",
        "count = 0\n",
        "for line in lines:\n",
        "    a = line.split(\",\")\n",
        "    if '\\n' in a[-1]:\n",
        "        a[-1] = a[-1][:-1]\n",
        "    format = \"%Y-%m-%d\"\n",
        "    datetime_str = datetime.datetime.strptime(a[0], format)\n",
        "    if a[1] not in list(cust.keys()):\n",
        "        cust[a[1]] = {}\n",
        "        cust[a[1]][\"date\"] = [datetime_str]\n",
        "        cust[a[1]][\"history\"] = [a[2]]\n",
        "        if a[2] == \"PURCHASE\":\n",
        "            print(f\"{datetime_str.date()}, {a[1]}, NO_HISTORY\")\n",
        "        continue\n",
        "        \n",
        "    if a[2] == \"PURCHASE\":\n",
        "        if \"FRAUD_REPORT\" in cust[a[1]][\"history\"]:\n",
        "            temp=0\n",
        "            for i in range(len(cust[a[1]][\"history\"])-1,-1,-1):\n",
        "                if cust[a[1]][\"history\"][i] == \"FRAUD_REPORT\":\n",
        "                    temp +=1\n",
        "            print(f\"{datetime_str.date()}, {a[1]}, FRAUD_HISTORY:{temp}\")\n",
        "        else:\n",
        "            \n",
        "            over90,under90 = 0,0\n",
        "            for i in cust[a[1]][\"date\"]:\n",
        "                days = (datetime_str-i).days\n",
        "                if days<90:\n",
        "                    under90+=1\n",
        "                else:\n",
        "                    over90+=1\n",
        "            \n",
        "            if over90==0:\n",
        "                print(f\"{datetime_str.date()}, {a[1]}, UNCONFIRMED_HISTORY:{under90}\")\n",
        "            else:\n",
        "                print(f\"{datetime_str.date()}, {a[1]}, GOOD_HISTORY:{over90}\")\n",
        "        \n",
        "    cust[a[1]][\"date\"].append(datetime_str)\n",
        "    cust[a[1]][\"history\"].append(a[2])\n",
        "                "
      ]
    },
    {
      "cell_type": "code",
      "source": [
        ""
      ],
      "metadata": {
        "id": "WevhDo_2s4zS"
      },
      "execution_count": null,
      "outputs": []
    }
  ]
}